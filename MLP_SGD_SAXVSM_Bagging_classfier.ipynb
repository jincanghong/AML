{
 "cells": [
  {
   "cell_type": "code",
   "execution_count": 13,
   "metadata": {},
   "outputs": [],
   "source": [
    "from utils import *\n",
    "import numpy as np\n",
    "from pyts.classification import SAXVSM, BOSSVS\n",
    "from sklearn.neural_network import MLPClassifier\n",
    "from sklearn.tree import DecisionTreeClassifier\n",
    "from sklearn.ensemble import BaggingClassifier\n",
    "from sklearn.linear_model import SGDClassifier\n",
    "from sklearn.model_selection import KFold\n",
    "from sklearn.metrics import accuracy_score, f1_score, precision_score\n",
    "from sklearn.model_selection import train_test_split\n",
    "from sklearn import preprocessing\n",
    "from joblib import dump\n",
    "from collections import Counter\n"
   ]
  },
  {
   "cell_type": "code",
   "execution_count": 14,
   "metadata": {},
   "outputs": [],
   "source": [
    "dataset = 'gx'"
   ]
  },
  {
   "cell_type": "code",
   "execution_count": 15,
   "metadata": {},
   "outputs": [
    {
     "name": "stdout",
     "output_type": "stream",
     "text": [
      "(1875, 1000) (1875,)\n",
      "(1406, 1000) (469, 1000) (1406,) (469,)\n"
     ]
    }
   ],
   "source": [
    "if dataset == 'gx':\n",
    "    data = np.load('./data/money_laundrying_dataset/data.npy', allow_pickle=True)[()]\n",
    "    X = data['X']\n",
    "    y = data['y']\n",
    "    X = preprocessing.scale(X.squeeze())\n",
    "    print(X.shape, y.shape)\n",
    "\n",
    "X_train, X_test, y_train, y_test = train_test_split(X,y, random_state=0)\n",
    "# X_train, X_test = X_train[:,:,0], X_test[:,:,0]\n",
    "print(X_train.shape, X_test.shape, y_train.shape, y_test.shape)"
   ]
  },
  {
   "cell_type": "markdown",
   "metadata": {},
   "source": [
    "## MLP"
   ]
  },
  {
   "cell_type": "code",
   "execution_count": 4,
   "metadata": {},
   "outputs": [
    {
     "name": "stdout",
     "output_type": "stream",
     "text": [
      "MLP\n",
      "acc: 0.605543710021322\n",
      "prec: 0.0\n",
      "f1: 0.0\n"
     ]
    }
   ],
   "source": [
    "clf = MLPClassifier(solver = 'sgd', activation = 'logistic', alpha=1e-4, \\\n",
    "                    max_iter = 1000, hidden_layer_sizes = (256,128,64,2),\\\n",
    "                    batch_size=32, learning_rate_init=1e-3,\\\n",
    "                    verbose=0, random_state = 1, shuffle=True)\n",
    "clf.fit(X_train, y_train)\n",
    "y_pred = clf.predict(X_test)\n",
    "acc = accuracy_score(y_test, y_pred)\n",
    "prec = precision_score(y_test, y_pred)\n",
    "f1 = f1_score(y_test, y_pred)\n",
    "\n",
    "print('MLP')\n",
    "print('acc:', acc)\n",
    "print('prec:', prec)\n",
    "print('f1:', f1)"
   ]
  },
  {
   "cell_type": "markdown",
   "metadata": {},
   "source": [
    "## SGD"
   ]
  },
  {
   "cell_type": "code",
   "execution_count": 5,
   "metadata": {},
   "outputs": [
    {
     "name": "stdout",
     "output_type": "stream",
     "text": [
      "SGD\n",
      "acc: 0.6311300639658849\n",
      "prec: 0.5714285714285714\n",
      "f1: 0.35687732342007433\n"
     ]
    }
   ],
   "source": [
    "sgdc = SGDClassifier(loss='hinge',max_iter=1000, alpha=1e-4, shuffle=True, random_state=1)\n",
    "sgdc.fit(X_train,y_train)\n",
    "sgdc_predict_y = sgdc.predict(X_test)\n",
    "acc = accuracy_score(y_test, sgdc_predict_y)\n",
    "prec = precision_score(y_test, sgdc_predict_y)\n",
    "f1 = f1_score(y_test, sgdc_predict_y)\n",
    "\n",
    "print('SGD')\n",
    "print('acc:', acc)\n",
    "print('prec:', prec)\n",
    "print('f1:', f1)"
   ]
  },
  {
   "cell_type": "markdown",
   "metadata": {},
   "source": [
    "## SAXVSM"
   ]
  },
  {
   "cell_type": "code",
   "execution_count": 6,
   "metadata": {},
   "outputs": [
    {
     "name": "stdout",
     "output_type": "stream",
     "text": [
      "SAXVSM\n",
      "acc: 0.5628997867803838\n",
      "prec: 0.4618320610687023\n",
      "f1: 0.5413870246085011\n"
     ]
    }
   ],
   "source": [
    "saxvsm = SAXVSM(window_size=512, word_size=36, n_bins=5, strategy='uniform')\n",
    "saxvsm.fit(X_train, y_train)\n",
    "saxvsm_predict_y = saxvsm.predict(X_test)\n",
    "acc = accuracy_score(y_test, saxvsm_predict_y)\n",
    "prec = precision_score(y_test, saxvsm_predict_y)\n",
    "f1 = f1_score(y_test, saxvsm_predict_y)\n",
    "\n",
    "print('SAXVSM')\n",
    "print('acc:', acc)\n",
    "print('prec:', prec)\n",
    "print('f1:', f1)"
   ]
  },
  {
   "cell_type": "markdown",
   "metadata": {},
   "source": [
    "## Bagging"
   ]
  },
  {
   "cell_type": "code",
   "execution_count": 16,
   "metadata": {},
   "outputs": [
    {
     "name": "stdout",
     "output_type": "stream",
     "text": [
      "Bagging\n",
      "acc: 0.7078891257995735\n",
      "prec: 0.8076923076923077\n",
      "f1: 0.47908745247148293\n"
     ]
    }
   ],
   "source": [
    "# clf = DecisionTreeClassifier().fit(X_train, y_train)\n",
    "bagging = BaggingClassifier(base_estimator= DecisionTreeClassifier(),max_samples=0.5,max_features=0.5)\n",
    "bagging.fit(X_train, y_train)\n",
    "bagging_predict_y = bagging.predict(X_test)\n",
    "acc = accuracy_score(y_test, bagging_predict_y)\n",
    "prec = precision_score(y_test, bagging_predict_y)\n",
    "f1 = f1_score(y_test, bagging_predict_y)\n",
    "\n",
    "print('Bagging')\n",
    "print('acc:', acc)\n",
    "print('prec:', prec)\n",
    "print('f1:', f1)"
   ]
  },
  {
   "cell_type": "code",
   "execution_count": null,
   "metadata": {},
   "outputs": [],
   "source": []
  }
 ],
 "metadata": {
  "kernelspec": {
   "display_name": "Python 3",
   "language": "python",
   "name": "python3"
  },
  "language_info": {
   "codemirror_mode": {
    "name": "ipython",
    "version": 3
   },
   "file_extension": ".py",
   "mimetype": "text/x-python",
   "name": "python",
   "nbconvert_exporter": "python",
   "pygments_lexer": "ipython3",
   "version": "3.8.3"
  }
 },
 "nbformat": 4,
 "nbformat_minor": 4
}
