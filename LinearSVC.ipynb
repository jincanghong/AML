{
 "cells": [
  {
   "cell_type": "code",
   "execution_count": 1,
   "metadata": {},
   "outputs": [],
   "source": [
    "import numpy as np\n",
    "import pandas as pd\n",
    "from sklearn.feature_extraction.text import TfidfVectorizer\n",
    "from sklearn.model_selection import train_test_split\n",
    "from sklearn.svm import LinearSVC\n",
    "from sklearn import metrics\n",
    "from sklearn.metrics import accuracy_score, f1_score, precision_score\n",
    "from sklearn.utils import shuffle\n",
    "from sklearn.model_selection import KFold"
   ]
  },
  {
   "cell_type": "code",
   "execution_count": 2,
   "metadata": {},
   "outputs": [],
   "source": [
    "def preprocess_df(df_train):\n",
    "    df_train = df_train[pd.notnull(df_train['document'])]\n",
    "    df_train.columns = ['label', 'document']\n",
    "    df_train['label_id'] = df_train['label'].factorize()[0]\n",
    "    df_train.head()\n",
    "    return df_train\n",
    "\n",
    "def get_classifier(df_train, df_test):\n",
    "    classifier = {}\n",
    "    tfidf = TfidfVectorizer(sublinear_tf=False, min_df=0, max_df=0.8, norm='l2', encoding='utf-8', ngram_range=(1, 4),\n",
    "                         analyzer='char')\n",
    "    print('initiating data...')\n",
    "    train_doc = [str(ll)[1:-1] for ll in [val for val in df_train.document]]\n",
    "    X_train = tfidf.fit_transform(train_doc).toarray()\n",
    "    y_train = df_train.label_id\n",
    "    \n",
    "    test_doc = [str(ll)[1:-1] for ll in [val for val in df_test.document]]\n",
    "    X_test = tfidf.transform(test_doc).toarray()\n",
    "    y_test = df_test.label_id\n",
    "    \n",
    "    print('training...')\n",
    "    model = LinearSVC()\n",
    "    model.fit(X_train, y_train)\n",
    "    y_pred = model.predict(X_test)\n",
    "\n",
    "    classifier['features'] = X_train\n",
    "    classifier['y_pred'] = y_pred\n",
    "    classifier['y_true'] = y_test\n",
    "    \n",
    "    print('finished.')\n",
    "    return classifier"
   ]
  },
  {
   "cell_type": "code",
   "execution_count": 3,
   "metadata": {},
   "outputs": [
    {
     "data": {
      "text/plain": [
       "dict_keys(['shp_loc', 'shp_ts', 'shp_seq', 'seq_label'])"
      ]
     },
     "execution_count": 3,
     "metadata": {},
     "output_type": "execute_result"
    }
   ],
   "source": [
    "shp_len = 10\n",
    "shp_num = 100\n",
    "shp_loc_ts = np.load('./data/money_laundrying_dataset/shp_{}_{}/shp_loc_ts.npy'.format(shp_len, shp_num),\\\n",
    "                    allow_pickle=True)[()]\n",
    "shp_loc_ts.keys()"
   ]
  },
  {
   "cell_type": "code",
   "execution_count": 4,
   "metadata": {},
   "outputs": [
    {
     "name": "stdout",
     "output_type": "stream",
     "text": [
      "(1875, 100) (100, 10, 1) (1875, 100) (1875,)\n"
     ]
    }
   ],
   "source": [
    "shp_loc = shp_loc_ts['shp_loc']\n",
    "shp_ts = shp_loc_ts['shp_ts']\n",
    "shp_seq = shp_loc_ts['shp_seq']\n",
    "seq_label = shp_loc_ts['seq_label']\n",
    "print(shp_loc.shape, shp_ts.shape, shp_seq.shape, seq_label.shape)"
   ]
  },
  {
   "cell_type": "code",
   "execution_count": 5,
   "metadata": {},
   "outputs": [
    {
     "name": "stdout",
     "output_type": "stream",
     "text": [
      "(1406, 100) (469, 100) (1406,) (469,)\n"
     ]
    }
   ],
   "source": [
    "X_train,X_test,y_train,y_test = train_test_split(shp_seq, seq_label, random_state=0)\n",
    "print(X_train.shape, X_test.shape, y_train.shape, y_test.shape)"
   ]
  },
  {
   "cell_type": "code",
   "execution_count": 6,
   "metadata": {},
   "outputs": [
    {
     "name": "stdout",
     "output_type": "stream",
     "text": [
      "(1406, 3)\n"
     ]
    }
   ],
   "source": [
    "#train set\n",
    "ts_num = X_train.shape[0]\n",
    "dataset = []\n",
    "for i in range(ts_num):\n",
    "    doc = [val for val in X_train[i,:] if val != -1]\n",
    "    dataset.append((y_train[i], doc))\n",
    "df_train = pd.DataFrame(data=dataset, columns=['label','document'])\n",
    "df_train = preprocess_df(df_train)\n",
    "#打乱seq中shapelet的顺序\n",
    "# for ll in [val for val in df_train.document]:\n",
    "#     random.shuffle(ll)\n",
    "print(df_train.shape)"
   ]
  },
  {
   "cell_type": "code",
   "execution_count": 7,
   "metadata": {},
   "outputs": [
    {
     "name": "stdout",
     "output_type": "stream",
     "text": [
      "(469, 3)\n"
     ]
    }
   ],
   "source": [
    "#test set\n",
    "ts_num = X_test.shape[0]\n",
    "dataset = []\n",
    "for i in range(ts_num):\n",
    "    doc = [val for val in X_test[i,:] if val != -1]\n",
    "    dataset.append((y_test[i], doc))\n",
    "df_test = pd.DataFrame(data=dataset, columns=['label','document'])\n",
    "df_test = preprocess_df(df_test)\n",
    "print(df_test.shape)"
   ]
  },
  {
   "cell_type": "code",
   "execution_count": 8,
   "metadata": {},
   "outputs": [],
   "source": [
    "df_train.to_csv('train.csv')\n",
    "df_test.to_csv('test.csv')"
   ]
  },
  {
   "cell_type": "code",
   "execution_count": 9,
   "metadata": {},
   "outputs": [
    {
     "name": "stdout",
     "output_type": "stream",
     "text": [
      "initiating data...\n",
      "training...\n",
      "finished.\n"
     ]
    }
   ],
   "source": [
    "classifier = get_classifier(df_train, df_test)"
   ]
  },
  {
   "cell_type": "code",
   "execution_count": 10,
   "metadata": {},
   "outputs": [
    {
     "name": "stdout",
     "output_type": "stream",
     "text": [
      "acc: 0.3304904051172708\n",
      "prec: 0.33695652173913043\n",
      "f1: 0.16489361702127656\n"
     ]
    }
   ],
   "source": [
    "print('acc:', accuracy_score(classifier['y_true'], classifier['y_pred']))\n",
    "print('prec:', precision_score(classifier['y_true'], classifier['y_pred']))\n",
    "print('f1:', f1_score(classifier['y_true'], classifier['y_pred']))"
   ]
  },
  {
   "cell_type": "code",
   "execution_count": null,
   "metadata": {},
   "outputs": [],
   "source": []
  }
 ],
 "metadata": {
  "kernelspec": {
   "display_name": "Python 3",
   "language": "python",
   "name": "python3"
  },
  "language_info": {
   "codemirror_mode": {
    "name": "ipython",
    "version": 3
   },
   "file_extension": ".py",
   "mimetype": "text/x-python",
   "name": "python",
   "nbconvert_exporter": "python",
   "pygments_lexer": "ipython3",
   "version": "3.8.3"
  }
 },
 "nbformat": 4,
 "nbformat_minor": 4
}
