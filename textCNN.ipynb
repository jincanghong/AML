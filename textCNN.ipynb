{
 "cells": [
  {
   "cell_type": "code",
   "execution_count": 1,
   "metadata": {},
   "outputs": [],
   "source": [
    "import os\n",
    "import time\n",
    "import numpy as np\n",
    "import pandas as pd\n",
    "\n",
    "import torch\n",
    "import torch.nn as nn\n",
    "import torch.nn.functional as F\n",
    "import torch.autograd as autograd\n",
    "from torch.utils.data import DataLoader, TensorDataset, Dataset\n",
    "import torchtext.data as data\n",
    "import torchtext.datasets as datasets\n",
    "\n",
    "from sklearn.model_selection import train_test_split\n",
    "from sklearn.metrics import accuracy_score, f1_score, precision_score\n",
    "\n",
    "import matplotlib.pyplot as plt\n",
    "\n",
    "import warnings\n",
    "warnings.filterwarnings(\"ignore\")"
   ]
  },
  {
   "cell_type": "code",
   "execution_count": 2,
   "metadata": {},
   "outputs": [],
   "source": [
    "class textCNN(nn.Module):\n",
    "    def __init__(self, vocab, embed_dim, class_num, kernel_num, kernel_sizes):\n",
    "        super(textCNN, self).__init__()\n",
    "        \n",
    "        self.Vocab = vocab \n",
    "        self.Dim = embed_dim \n",
    "        self.Cla = class_num \n",
    "        self.Ci = 1 \n",
    "        self.Knum = kernel_num \n",
    "        self.Ks = kernel_sizes \n",
    "        self.dropout=0.2\n",
    "        \n",
    "        self.embed = nn.Embedding(self.Vocab, self.Dim) ## 词向量，这里直接随机\n",
    "        self.convs = nn.ModuleList([nn.Conv2d(self.Ci, self.Knum,(K, self.Dim)) for K in self.Ks]) ## 卷积层\n",
    "        self.dropout = nn.Dropout(self.dropout) \n",
    "        self.fc = nn.Linear(len(self.Ks)*self.Knum, self.Cla) ##全连接层\n",
    "        \n",
    "    def forward(self,x):\n",
    "        x = self.embed(x) #(N,W,D)\n",
    "        \n",
    "        x = x.unsqueeze(1) #(N,Ci,W,D)\n",
    "        x = [F.relu(conv(x)).squeeze(3) for conv in self.convs] # len(Ks)*(N,Knum,W)\n",
    "        #print(x.shape)\n",
    "        x = [F.max_pool1d(line,line.size(2)).squeeze(2) for line in x]  # len(Ks)*(N,Knum)\n",
    "        \n",
    "        x = torch.cat(x,1) #(N,Knum*len(Ks))\n",
    "        \n",
    "        x = self.dropout(x)\n",
    "        logit = self.fc(x)\n",
    "        return logit\n",
    "def tokenizer(x):\n",
    "    res = x.replace(' ','').split(',')\n",
    "    return res\n",
    "\n",
    "def save_model(model, save_dir, save_prefix):\n",
    "    if not os.path.isdir(save_dir):\n",
    "        os.makedirs(save_dir)\n",
    "    save_prefix = os.path.join(save_dir,save_prefix)\n",
    "    save_path = '{}.pth'.format(save_prefix)\n",
    "    torch.save(model.state_dict(),save_path)\n"
   ]
  },
  {
   "cell_type": "code",
   "execution_count": null,
   "metadata": {},
   "outputs": [],
   "source": [
    "shp_len = 10\n",
    "shp_num = 100\n",
    "vocab = shp_num+1+1   # number of known words\n",
    "embed_dim = 256       #  dimension of embedding representation\n",
    "class_num = 2         # number of class\n",
    "kernel_num = 3        \n",
    "kernel_sizes = [2,3,4,5]\n",
    "max_epoch = 100\n",
    "batch_size = 16\n",
    "learning_rate = 1e-5\n",
    "\n",
    "save_dir = './experiments/shp2sent/'\n",
    "\n",
    "torch.cuda.set_device(0)"
   ]
  },
  {
   "cell_type": "code",
   "execution_count": 4,
   "metadata": {},
   "outputs": [
    {
     "name": "stdout",
     "output_type": "stream",
     "text": [
      "(1875, 100) (1875,)\n"
     ]
    }
   ],
   "source": [
    "shp_loc_ts = np.load('./data/money_laundrying_dataset/shp_{}_{}/shp_loc_ts.npy'.format(shp_len, shp_num),\\\n",
    "                    allow_pickle=True)[()]\n",
    "\n",
    "shp_seq = shp_loc_ts['shp_seq']\n",
    "seq_label = shp_loc_ts['seq_label']\n",
    "print(shp_seq.shape, seq_label.shape)"
   ]
  },
  {
   "cell_type": "code",
   "execution_count": 5,
   "metadata": {},
   "outputs": [
    {
     "name": "stdout",
     "output_type": "stream",
     "text": [
      "(1406, 100) (469, 100) (1406,) (469,)\n"
     ]
    }
   ],
   "source": [
    "X_train,X_test,y_train,y_test = train_test_split(shp_seq, seq_label, random_state=0)\n",
    "print(X_train.shape, X_test.shape, y_train.shape, y_test.shape)"
   ]
  },
  {
   "cell_type": "code",
   "execution_count": 6,
   "metadata": {},
   "outputs": [
    {
     "name": "stdout",
     "output_type": "stream",
     "text": [
      "(1406, 2)\n",
      "(469, 2)\n"
     ]
    }
   ],
   "source": [
    "#train set\n",
    "ts_num = X_train.shape[0]\n",
    "dataset = []\n",
    "for i in range(ts_num):\n",
    "    text = str([val for val in X_train[i,:] if val != -1])[1:-1]\n",
    "    dataset.append((text, y_train[i]))\n",
    "df_train = pd.DataFrame(data=dataset, columns=['text','label'])\n",
    "print(df_train.shape)\n",
    "\n",
    "#test set\n",
    "ts_num = X_test.shape[0]\n",
    "dataset = []\n",
    "for i in range(ts_num):\n",
    "    text = str([val for val in X_test[i,:] if val != -1])[1:-1]\n",
    "    dataset.append((text, y_test[i]))\n",
    "df_test = pd.DataFrame(data=dataset, columns=['text','label'])\n",
    "print(df_test.shape)"
   ]
  },
  {
   "cell_type": "code",
   "execution_count": 7,
   "metadata": {},
   "outputs": [],
   "source": [
    "df_train.to_csv('train.csv', index=None)\n",
    "df_test.to_csv('test.csv', index=None)"
   ]
  },
  {
   "cell_type": "code",
   "execution_count": null,
   "metadata": {},
   "outputs": [],
   "source": []
  },
  {
   "cell_type": "code",
   "execution_count": 8,
   "metadata": {},
   "outputs": [],
   "source": [
    "TEXT = data.Field(sequential=True, tokenize=tokenizer, fix_length=100)\n",
    "LABEL = data.Field(sequential=False, use_vocab=False)\n",
    "# train, test = data.TabularDataset.splits(path='./',train='train.csv',\n",
    "#                                               test='test.csv',\n",
    "#                                               format='csv',\n",
    "#                                               skip_header=True,\n",
    "#                                               fields=[('text', TEXT), ('label', LABEL)])\n",
    "train = data.TabularDataset(path='./train.csv',\n",
    "                                      format='csv',\n",
    "                                      skip_header=True,\n",
    "                                      fields=[('text', TEXT), ('label', LABEL)])\n",
    "test = data.TabularDataset(path='./test.csv',\n",
    "                                      format='csv',\n",
    "                                      skip_header=True,\n",
    "                                      fields=[('text', TEXT), ('label', LABEL)])\n",
    "TEXT.build_vocab(train)\n",
    "TEXT.build_vocab(test)"
   ]
  },
  {
   "cell_type": "code",
   "execution_count": 9,
   "metadata": {},
   "outputs": [],
   "source": [
    "train_iter = data.Iterator(train,\n",
    "                             train=True,\n",
    "                             batch_size=batch_size,\n",
    "                             sort_key=None,\n",
    "                             repeat=False)\n",
    "test_iter = data.Iterator(test,\n",
    "                             batch_size=batch_size,\n",
    "                             sort_key=None,\n",
    "                             repeat=False)"
   ]
  },
  {
   "cell_type": "code",
   "execution_count": 14,
   "metadata": {},
   "outputs": [
    {
     "data": {
      "text/plain": [
       "textCNN(\n",
       "  (embed): Embedding(102, 256)\n",
       "  (convs): ModuleList(\n",
       "    (0): Conv2d(1, 3, kernel_size=(2, 256), stride=(1, 1))\n",
       "    (1): Conv2d(1, 3, kernel_size=(3, 256), stride=(1, 1))\n",
       "    (2): Conv2d(1, 3, kernel_size=(4, 256), stride=(1, 1))\n",
       "    (3): Conv2d(1, 3, kernel_size=(5, 256), stride=(1, 1))\n",
       "  )\n",
       "  (dropout): Dropout(p=0.2, inplace=False)\n",
       "  (fc): Linear(in_features=12, out_features=2, bias=True)\n",
       ")"
      ]
     },
     "execution_count": 14,
     "metadata": {},
     "output_type": "execute_result"
    }
   ],
   "source": [
    "model = textCNN(vocab=vocab,\n",
    "                embed_dim=embed_dim,\n",
    "                class_num=class_num,\n",
    "                kernel_num=kernel_num,\n",
    "                kernel_sizes=kernel_sizes)\n",
    "model = model.to('cuda')\n",
    "model"
   ]
  },
  {
   "cell_type": "code",
   "execution_count": 15,
   "metadata": {},
   "outputs": [
    {
     "name": "stdout",
     "output_type": "stream",
     "text": [
      "training...\n",
      "Epoch 116|step:79 loss:0.65352571010589645"
     ]
    },
    {
     "ename": "KeyboardInterrupt",
     "evalue": "",
     "output_type": "error",
     "traceback": [
      "\u001b[0;31m---------------------------------------------------------------------------\u001b[0m",
      "\u001b[0;31mKeyboardInterrupt\u001b[0m                         Traceback (most recent call last)",
      "\u001b[0;32m<ipython-input-15-012ade96f2cd>\u001b[0m in \u001b[0;36m<module>\u001b[0;34m\u001b[0m\n\u001b[1;32m     17\u001b[0m         \u001b[0mprint\u001b[0m\u001b[0;34m(\u001b[0m\u001b[0;34m'\\rEpoch {}|step:{} loss:{}'\u001b[0m\u001b[0;34m.\u001b[0m\u001b[0mformat\u001b[0m\u001b[0;34m(\u001b[0m\u001b[0mepoch\u001b[0m\u001b[0;34m,\u001b[0m \u001b[0mstep\u001b[0m\u001b[0;34m,\u001b[0m \u001b[0mlosses\u001b[0m\u001b[0;34m[\u001b[0m\u001b[0;34m-\u001b[0m\u001b[0;36m1\u001b[0m\u001b[0;34m]\u001b[0m\u001b[0;34m)\u001b[0m\u001b[0;34m,\u001b[0m \u001b[0mend\u001b[0m\u001b[0;34m=\u001b[0m\u001b[0;34m''\u001b[0m\u001b[0;34m,\u001b[0m\u001b[0mflush\u001b[0m\u001b[0;34m=\u001b[0m\u001b[0;32mTrue\u001b[0m\u001b[0;34m)\u001b[0m\u001b[0;34m\u001b[0m\u001b[0;34m\u001b[0m\u001b[0m\n\u001b[1;32m     18\u001b[0m         \u001b[0mloss\u001b[0m\u001b[0;34m.\u001b[0m\u001b[0mbackward\u001b[0m\u001b[0;34m(\u001b[0m\u001b[0;34m)\u001b[0m\u001b[0;34m\u001b[0m\u001b[0;34m\u001b[0m\u001b[0m\n\u001b[0;32m---> 19\u001b[0;31m         \u001b[0moptimizer\u001b[0m\u001b[0;34m.\u001b[0m\u001b[0mstep\u001b[0m\u001b[0;34m(\u001b[0m\u001b[0;34m)\u001b[0m\u001b[0;34m\u001b[0m\u001b[0;34m\u001b[0m\u001b[0m\n\u001b[0m\u001b[1;32m     20\u001b[0m         \u001b[0mstep\u001b[0m\u001b[0;34m+=\u001b[0m\u001b[0;36m1\u001b[0m\u001b[0;34m\u001b[0m\u001b[0;34m\u001b[0m\u001b[0m\n\u001b[1;32m     21\u001b[0m     \u001b[0mtrain_losses\u001b[0m\u001b[0;34m.\u001b[0m\u001b[0mappend\u001b[0m\u001b[0;34m(\u001b[0m\u001b[0mnp\u001b[0m\u001b[0;34m.\u001b[0m\u001b[0mmean\u001b[0m\u001b[0;34m(\u001b[0m\u001b[0mlosses\u001b[0m\u001b[0;34m)\u001b[0m\u001b[0;34m)\u001b[0m\u001b[0;34m\u001b[0m\u001b[0;34m\u001b[0m\u001b[0m\n",
      "\u001b[0;32m/home/amax/anaconda3/lib/python3.8/site-packages/torch/autograd/grad_mode.py\u001b[0m in \u001b[0;36mdecorate_context\u001b[0;34m(*args, **kwargs)\u001b[0m\n\u001b[1;32m     24\u001b[0m         \u001b[0;32mdef\u001b[0m \u001b[0mdecorate_context\u001b[0m\u001b[0;34m(\u001b[0m\u001b[0;34m*\u001b[0m\u001b[0margs\u001b[0m\u001b[0;34m,\u001b[0m \u001b[0;34m**\u001b[0m\u001b[0mkwargs\u001b[0m\u001b[0;34m)\u001b[0m\u001b[0;34m:\u001b[0m\u001b[0;34m\u001b[0m\u001b[0;34m\u001b[0m\u001b[0m\n\u001b[1;32m     25\u001b[0m             \u001b[0;32mwith\u001b[0m \u001b[0mself\u001b[0m\u001b[0;34m.\u001b[0m\u001b[0m__class__\u001b[0m\u001b[0;34m(\u001b[0m\u001b[0;34m)\u001b[0m\u001b[0;34m:\u001b[0m\u001b[0;34m\u001b[0m\u001b[0;34m\u001b[0m\u001b[0m\n\u001b[0;32m---> 26\u001b[0;31m                 \u001b[0;32mreturn\u001b[0m \u001b[0mfunc\u001b[0m\u001b[0;34m(\u001b[0m\u001b[0;34m*\u001b[0m\u001b[0margs\u001b[0m\u001b[0;34m,\u001b[0m \u001b[0;34m**\u001b[0m\u001b[0mkwargs\u001b[0m\u001b[0;34m)\u001b[0m\u001b[0;34m\u001b[0m\u001b[0;34m\u001b[0m\u001b[0m\n\u001b[0m\u001b[1;32m     27\u001b[0m         \u001b[0;32mreturn\u001b[0m \u001b[0mcast\u001b[0m\u001b[0;34m(\u001b[0m\u001b[0mF\u001b[0m\u001b[0;34m,\u001b[0m \u001b[0mdecorate_context\u001b[0m\u001b[0;34m)\u001b[0m\u001b[0;34m\u001b[0m\u001b[0;34m\u001b[0m\u001b[0m\n\u001b[1;32m     28\u001b[0m \u001b[0;34m\u001b[0m\u001b[0m\n",
      "\u001b[0;32m/home/amax/anaconda3/lib/python3.8/site-packages/torch/optim/adam.py\u001b[0m in \u001b[0;36mstep\u001b[0;34m(self, closure)\u001b[0m\n\u001b[1;32m    106\u001b[0m \u001b[0;34m\u001b[0m\u001b[0m\n\u001b[1;32m    107\u001b[0m             \u001b[0mbeta1\u001b[0m\u001b[0;34m,\u001b[0m \u001b[0mbeta2\u001b[0m \u001b[0;34m=\u001b[0m \u001b[0mgroup\u001b[0m\u001b[0;34m[\u001b[0m\u001b[0;34m'betas'\u001b[0m\u001b[0;34m]\u001b[0m\u001b[0;34m\u001b[0m\u001b[0;34m\u001b[0m\u001b[0m\n\u001b[0;32m--> 108\u001b[0;31m             F.adam(params_with_grad,\n\u001b[0m\u001b[1;32m    109\u001b[0m                    \u001b[0mgrads\u001b[0m\u001b[0;34m,\u001b[0m\u001b[0;34m\u001b[0m\u001b[0;34m\u001b[0m\u001b[0m\n\u001b[1;32m    110\u001b[0m                    \u001b[0mexp_avgs\u001b[0m\u001b[0;34m,\u001b[0m\u001b[0;34m\u001b[0m\u001b[0;34m\u001b[0m\u001b[0m\n",
      "\u001b[0;32m/home/amax/anaconda3/lib/python3.8/site-packages/torch/optim/functional.py\u001b[0m in \u001b[0;36madam\u001b[0;34m(params, grads, exp_avgs, exp_avg_sqs, max_exp_avg_sqs, state_steps, amsgrad, beta1, beta2, lr, weight_decay, eps)\u001b[0m\n\u001b[1;32m     92\u001b[0m             \u001b[0mdenom\u001b[0m \u001b[0;34m=\u001b[0m \u001b[0;34m(\u001b[0m\u001b[0mmax_exp_avg_sq\u001b[0m\u001b[0;34m.\u001b[0m\u001b[0msqrt\u001b[0m\u001b[0;34m(\u001b[0m\u001b[0;34m)\u001b[0m \u001b[0;34m/\u001b[0m \u001b[0mmath\u001b[0m\u001b[0;34m.\u001b[0m\u001b[0msqrt\u001b[0m\u001b[0;34m(\u001b[0m\u001b[0mbias_correction2\u001b[0m\u001b[0;34m)\u001b[0m\u001b[0;34m)\u001b[0m\u001b[0;34m.\u001b[0m\u001b[0madd_\u001b[0m\u001b[0;34m(\u001b[0m\u001b[0meps\u001b[0m\u001b[0;34m)\u001b[0m\u001b[0;34m\u001b[0m\u001b[0;34m\u001b[0m\u001b[0m\n\u001b[1;32m     93\u001b[0m         \u001b[0;32melse\u001b[0m\u001b[0;34m:\u001b[0m\u001b[0;34m\u001b[0m\u001b[0;34m\u001b[0m\u001b[0m\n\u001b[0;32m---> 94\u001b[0;31m             \u001b[0mdenom\u001b[0m \u001b[0;34m=\u001b[0m \u001b[0;34m(\u001b[0m\u001b[0mexp_avg_sq\u001b[0m\u001b[0;34m.\u001b[0m\u001b[0msqrt\u001b[0m\u001b[0;34m(\u001b[0m\u001b[0;34m)\u001b[0m \u001b[0;34m/\u001b[0m \u001b[0mmath\u001b[0m\u001b[0;34m.\u001b[0m\u001b[0msqrt\u001b[0m\u001b[0;34m(\u001b[0m\u001b[0mbias_correction2\u001b[0m\u001b[0;34m)\u001b[0m\u001b[0;34m)\u001b[0m\u001b[0;34m.\u001b[0m\u001b[0madd_\u001b[0m\u001b[0;34m(\u001b[0m\u001b[0meps\u001b[0m\u001b[0;34m)\u001b[0m\u001b[0;34m\u001b[0m\u001b[0;34m\u001b[0m\u001b[0m\n\u001b[0m\u001b[1;32m     95\u001b[0m \u001b[0;34m\u001b[0m\u001b[0m\n\u001b[1;32m     96\u001b[0m         \u001b[0mstep_size\u001b[0m \u001b[0;34m=\u001b[0m \u001b[0mlr\u001b[0m \u001b[0;34m/\u001b[0m \u001b[0mbias_correction1\u001b[0m\u001b[0;34m\u001b[0m\u001b[0;34m\u001b[0m\u001b[0m\n",
      "\u001b[0;31mKeyboardInterrupt\u001b[0m: "
     ]
    }
   ],
   "source": [
    "#train\n",
    "model.train()\n",
    "train_losses = []\n",
    "optimizer = torch.optim.Adam(model.parameters(), lr=learning_rate)\n",
    "print('training...')\n",
    "for epoch in range(1, max_epoch+1):\n",
    "    step=0\n",
    "    losses = []\n",
    "    for batch in train_iter:\n",
    "        feature, target = batch.text, batch.label #(W,N) (N)\n",
    "        feature.t_() #(N,W)\n",
    "        feature, target = feature.to('cuda'), target.to('cuda')\n",
    "        optimizer.zero_grad()\n",
    "        logit = model(feature)\n",
    "        loss = F.cross_entropy(logit, target)\n",
    "        losses.append(float(loss.cpu()))\n",
    "        print('\\rEpoch {}|step:{} loss:{}'.format(epoch, step, losses[-1]), end='',flush=True)\n",
    "        loss.backward()\n",
    "        optimizer.step()\n",
    "        step+=1\n",
    "    train_losses.append(np.mean(losses))"
   ]
  },
  {
   "cell_type": "code",
   "execution_count": 16,
   "metadata": {},
   "outputs": [],
   "source": [
    "#save model\n",
    "t = time.localtime()\n",
    "tt = str(t.tm_year)+str(t.tm_mon).zfill(2)+str(t.tm_mday).zfill(2)+str(t.tm_hour).zfill(2)+str(t.tm_min).zfill(2)\n",
    "save_prefix = 'model_'+tt\n",
    "save_model(model, save_dir, save_prefix)"
   ]
  },
  {
   "cell_type": "code",
   "execution_count": 17,
   "metadata": {},
   "outputs": [
    {
     "data": {
      "image/png": "[encoded data removed]",
      "text/plain": [
       "<Figure size 432x288 with 1 Axes>"
      ]
     },
     "metadata": {
      "needs_background": "light"
     },
     "output_type": "display_data"
    }
   ],
   "source": [
    "x = list(range(len(train_losses)))\n",
    "plt.plot(x, train_losses)\n",
    "plt.grid()"
   ]
  },
  {
   "cell_type": "code",
   "execution_count": 18,
   "metadata": {},
   "outputs": [
    {
     "name": "stdout",
     "output_type": "stream",
     "text": [
      "\n",
      "Evaluation - loss: 0.042041 acc: 0.601 prec: 0.486 f1: 0.278 \n",
      "\n"
     ]
    }
   ],
   "source": [
    "#eval\n",
    "corrects, avg_loss = 0, 0\n",
    "y_pred, y_true = [], []\n",
    "for batch in test_iter:\n",
    "    feature, target = batch.text, batch.label\n",
    "    feature.t_()\n",
    "    feature, target = feature.to('cuda'), target.to('cuda')\n",
    "\n",
    "    logit = model(feature)\n",
    "    loss = F.cross_entropy(logit,target)\n",
    "\n",
    "    avg_loss += loss.item()\n",
    "    result = torch.max(logit,1)[1]\n",
    "    corrects += (result.view(target.size()).data == target.data).sum()\n",
    "    y_pred += result.cpu().numpy().tolist()\n",
    "    y_true += target.cpu().numpy().tolist()\n",
    "size = len(test_iter.dataset)\n",
    "avg_loss /= size \n",
    "accuracy = accuracy_score(y_true, y_pred)\n",
    "precision = precision_score(y_true, y_pred)\n",
    "f1 = f1_score(y_true, y_pred)\n",
    "print('\\nEvaluation - loss: {:.6f} acc: {:.3f} prec: {:.3f} f1: {:.3f} \\n'.format(avg_loss,accuracy,precision,f1))"
   ]
  },
  {
   "cell_type": "code",
   "execution_count": null,
   "metadata": {},
   "outputs": [],
   "source": []
  }
 ],
 "metadata": {
  "kernelspec": {
   "display_name": "Python 3",
   "language": "python",
   "name": "python3"
  },
  "language_info": {
   "codemirror_mode": {
    "name": "ipython",
    "version": 3
   },
   "file_extension": ".py",
   "mimetype": "text/x-python",
   "name": "python",
   "nbconvert_exporter": "python",
   "pygments_lexer": "ipython3",
   "version": "3.8.3"
  }
 },
 "nbformat": 4,
 "nbformat_minor": 4
}
