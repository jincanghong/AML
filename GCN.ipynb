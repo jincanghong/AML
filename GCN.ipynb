{
 "cells": [
  {
   "cell_type": "code",
   "execution_count": 1,
   "metadata": {},
   "outputs": [
    {
     "name": "stderr",
     "output_type": "stream",
     "text": [
      "Using backend: pytorch\n"
     ]
    }
   ],
   "source": [
    "import numpy as np\n",
    "import dgl\n",
    "import dgl.function as fn\n",
    "import torch\n",
    "import torch.nn as nn\n",
    "import torch.nn.functional as F\n",
    "from dgl import DGLGraph\n",
    "from dgl.data import citation_graph as citegrh\n",
    "import networkx as nx\n",
    "import utils\n",
    "\n",
    "import warnings\n",
    "warnings.filterwarnings('ignore')\n",
    "\n",
    "gcn_msg = fn.copy_src(src='h', out='m')\n",
    "gcn_reduce = fn.sum(msg='m', out='h')"
   ]
  },
  {
   "cell_type": "code",
   "execution_count": 2,
   "metadata": {},
   "outputs": [
    {
     "name": "stdout",
     "output_type": "stream",
     "text": [
      "Net(\n",
      "  (gcn1): GCNLayer(\n",
      "    (linear): Linear(in_features=1433, out_features=16, bias=True)\n",
      "  )\n",
      "  (gcn2): GCNLayer(\n",
      "    (linear): Linear(in_features=16, out_features=7, bias=True)\n",
      "  )\n",
      ")\n"
     ]
    }
   ],
   "source": [
    "class GCNLayer(nn.Module):\n",
    "    def __init__(self, in_feats, out_feats):\n",
    "        super(GCNLayer, self).__init__()\n",
    "        self.linear = nn.Linear(in_feats, out_feats)\n",
    "\n",
    "    def forward(self, g, feature):\n",
    "        # Creating a local scope so that all the stored ndata and edata\n",
    "        # (such as the `'h'` ndata below) are automatically popped out\n",
    "        # when the scope exits.\n",
    "        with g.local_scope():\n",
    "            g.ndata['h'] = feature\n",
    "            g.update_all(gcn_msg, gcn_reduce)\n",
    "            h = g.ndata['h']\n",
    "            return self.linear(h)\n",
    "\n",
    "class Net(nn.Module):\n",
    "    def __init__(self):\n",
    "        super(Net, self).__init__()\n",
    "        self.gcn1 = GCNLayer(1433, 16)\n",
    "        self.gcn2 = GCNLayer(16, 7)\n",
    "\n",
    "    def forward(self, g, features):\n",
    "        x = F.relu(self.gcn1(g, features))\n",
    "        x = self.gcn2(g, x)\n",
    "        return x\n",
    "net = Net()\n",
    "print(net)"
   ]
  },
  {
   "cell_type": "code",
   "execution_count": 3,
   "metadata": {},
   "outputs": [],
   "source": [
    "def load_cora_data():\n",
    "    data = citegrh.load_cora()\n",
    "    features = torch.FloatTensor(data.features)\n",
    "    labels = torch.LongTensor(data.labels)\n",
    "    train_mask = torch.BoolTensor(data.train_mask)\n",
    "    test_mask = torch.BoolTensor(data.test_mask)\n",
    "    g = data.graph\n",
    "    # add self loop\n",
    "    g.remove_edges_from(nx.selfloop_edges(g))\n",
    "    g = DGLGraph(g)\n",
    "    g.add_edges(g.nodes(), g.nodes())\n",
    "    return g, features, labels, train_mask, test_mask"
   ]
  },
  {
   "cell_type": "code",
   "execution_count": 28,
   "metadata": {},
   "outputs": [],
   "source": [
    "def load_gx_data():\n",
    "    shapelets = np.load('./datamoney_laundrying_dataset/gx_shapelets_362_7.npu', allow_pickle=True)\n",
    "    \n",
    "    return graph, feat, labels, train_mask, test_mask"
   ]
  },
  {
   "cell_type": "code",
   "execution_count": 2,
   "metadata": {},
   "outputs": [
    {
     "data": {
      "text/plain": [
       "(7, 362)"
      ]
     },
     "execution_count": 2,
     "metadata": {},
     "output_type": "execute_result"
    }
   ],
   "source": [
    "#amount shapelets\n",
    "# tmp_shps = []\n",
    "shapelets = np.load('./data/money_laundrying_dataset/gx_amt_shapelets_362_7.npy', allow_pickle=True)\n",
    "s = shapelets\n",
    "# for shp in shapelets:\n",
    "#     tmp_shps.append(shp)\n",
    "# shapelets = np.array(tmp_shps).squeeze()\n",
    "# shapelets.shape"
   ]
  },
  {
   "cell_type": "code",
   "execution_count": 3,
   "metadata": {},
   "outputs": [],
   "source": [
    "dict_ts = utils.load_ts()"
   ]
  },
  {
   "cell_type": "code",
   "execution_count": null,
   "metadata": {},
   "outputs": [],
   "source": []
  },
  {
   "cell_type": "code",
   "execution_count": null,
   "metadata": {},
   "outputs": [],
   "source": []
  },
  {
   "cell_type": "code",
   "execution_count": null,
   "metadata": {},
   "outputs": [],
   "source": []
  },
  {
   "cell_type": "code",
   "execution_count": 4,
   "metadata": {},
   "outputs": [],
   "source": [
    "def evaluate(model, g, features, labels, mask):\n",
    "    model.eval()\n",
    "    with torch.no_grad():\n",
    "        logits = model(g, features)\n",
    "        logits = logits[mask]\n",
    "        labels = labels[mask]\n",
    "        _, indices = torch.max(logits, dim=1)\n",
    "        correct = torch.sum(indices == labels)\n",
    "        return correct.item() * 1.0 / len(labels)"
   ]
  },
  {
   "cell_type": "code",
   "execution_count": 21,
   "metadata": {},
   "outputs": [
    {
     "name": "stdout",
     "output_type": "stream",
     "text": [
      "Loading from cache failed, re-processing.\n",
      "Finished data loading and preprocessing.\n",
      "  NumNodes: 2708\n",
      "  NumEdges: 10556\n",
      "  NumFeats: 1433\n",
      "  NumClasses: 7\n",
      "  NumTrainingSamples: 140\n",
      "  NumValidationSamples: 500\n",
      "  NumTestSamples: 1000\n",
      "Done saving data into cached files.\n"
     ]
    },
    {
     "name": "stderr",
     "output_type": "stream",
     "text": [
      "/home/amax/anaconda3/lib/python3.8/site-packages/dgl/data/utils.py:285: UserWarning: Property dataset.feat will be deprecated, please use g.ndata['feat'] instead.\n",
      "  warnings.warn('Property {} will be deprecated, please use {} instead.'.format(old, new))\n",
      "/home/amax/anaconda3/lib/python3.8/site-packages/dgl/data/utils.py:285: UserWarning: Property dataset.label will be deprecated, please use g.ndata['label'] instead.\n",
      "  warnings.warn('Property {} will be deprecated, please use {} instead.'.format(old, new))\n",
      "/home/amax/anaconda3/lib/python3.8/site-packages/dgl/data/utils.py:285: UserWarning: Property dataset.train_mask will be deprecated, please use g.ndata['train_mask'] instead.\n",
      "  warnings.warn('Property {} will be deprecated, please use {} instead.'.format(old, new))\n",
      "/home/amax/anaconda3/lib/python3.8/site-packages/dgl/data/utils.py:285: UserWarning: Property dataset.test_mask will be deprecated, please use g.ndata['test_mask'] instead.\n",
      "  warnings.warn('Property {} will be deprecated, please use {} instead.'.format(old, new))\n",
      "/home/amax/anaconda3/lib/python3.8/site-packages/dgl/data/utils.py:285: UserWarning: Property dataset.graph will be deprecated, please use dataset.g instead.\n",
      "  warnings.warn('Property {} will be deprecated, please use {} instead.'.format(old, new))\n",
      "/home/amax/anaconda3/lib/python3.8/site-packages/dgl/base.py:45: DGLWarning: Recommend creating graphs by `dgl.graph(data)` instead of `dgl.DGLGraph(data)`.\n",
      "  return warnings.warn(message, category=category, stacklevel=1)\n"
     ]
    }
   ],
   "source": [
    "g, features, labels, train_mask, test_mask = load_cora_data()"
   ]
  },
  {
   "cell_type": "code",
   "execution_count": 23,
   "metadata": {},
   "outputs": [
    {
     "name": "stdout",
     "output_type": "stream",
     "text": [
      "Loading from cache failed, re-processing.\n",
      "Finished data loading and preprocessing.\n",
      "  NumNodes: 2708\n",
      "  NumEdges: 10556\n",
      "  NumFeats: 1433\n",
      "  NumClasses: 7\n",
      "  NumTrainingSamples: 140\n",
      "  NumValidationSamples: 500\n",
      "  NumTestSamples: 1000\n",
      "Done saving data into cached files.\n",
      "Epoch 00000 | Loss 1.9661 | Test Acc 0.2700 | Time(s) nan\n",
      "Epoch 00001 | Loss 1.9357 | Test Acc 0.3540 | Time(s) nan\n",
      "Epoch 00002 | Loss 1.9077 | Test Acc 0.3800 | Time(s) nan\n",
      "Epoch 00003 | Loss 1.8816 | Test Acc 0.4150 | Time(s) 0.0075\n"
     ]
    },
    {
     "name": "stderr",
     "output_type": "stream",
     "text": [
      "/home/amax/anaconda3/lib/python3.8/site-packages/dgl/data/utils.py:285: UserWarning: Property dataset.feat will be deprecated, please use g.ndata['feat'] instead.\n",
      "  warnings.warn('Property {} will be deprecated, please use {} instead.'.format(old, new))\n",
      "/home/amax/anaconda3/lib/python3.8/site-packages/dgl/data/utils.py:285: UserWarning: Property dataset.label will be deprecated, please use g.ndata['label'] instead.\n",
      "  warnings.warn('Property {} will be deprecated, please use {} instead.'.format(old, new))\n",
      "/home/amax/anaconda3/lib/python3.8/site-packages/dgl/data/utils.py:285: UserWarning: Property dataset.train_mask will be deprecated, please use g.ndata['train_mask'] instead.\n",
      "  warnings.warn('Property {} will be deprecated, please use {} instead.'.format(old, new))\n",
      "/home/amax/anaconda3/lib/python3.8/site-packages/dgl/data/utils.py:285: UserWarning: Property dataset.test_mask will be deprecated, please use g.ndata['test_mask'] instead.\n",
      "  warnings.warn('Property {} will be deprecated, please use {} instead.'.format(old, new))\n",
      "/home/amax/anaconda3/lib/python3.8/site-packages/dgl/data/utils.py:285: UserWarning: Property dataset.graph will be deprecated, please use dataset.g instead.\n",
      "  warnings.warn('Property {} will be deprecated, please use {} instead.'.format(old, new))\n",
      "/home/amax/anaconda3/lib/python3.8/site-packages/dgl/base.py:45: DGLWarning: Recommend creating graphs by `dgl.graph(data)` instead of `dgl.DGLGraph(data)`.\n",
      "  return warnings.warn(message, category=category, stacklevel=1)\n",
      "/home/amax/anaconda3/lib/python3.8/site-packages/numpy/core/fromnumeric.py:3334: RuntimeWarning: Mean of empty slice.\n",
      "  return _methods._mean(a, axis=axis, dtype=dtype,\n",
      "/home/amax/anaconda3/lib/python3.8/site-packages/numpy/core/_methods.py:161: RuntimeWarning: invalid value encountered in double_scalars\n",
      "  ret = ret.dtype.type(ret / rcount)\n"
     ]
    },
    {
     "name": "stdout",
     "output_type": "stream",
     "text": [
      "Epoch 00004 | Loss 1.8555 | Test Acc 0.4440 | Time(s) 0.0080\n",
      "Epoch 00005 | Loss 1.8295 | Test Acc 0.4620 | Time(s) 0.0079\n",
      "Epoch 00006 | Loss 1.8055 | Test Acc 0.4870 | Time(s) 0.0078\n",
      "Epoch 00007 | Loss 1.7821 | Test Acc 0.5040 | Time(s) 0.0078\n",
      "Epoch 00008 | Loss 1.7593 | Test Acc 0.5110 | Time(s) 0.0077\n",
      "Epoch 00009 | Loss 1.7373 | Test Acc 0.5250 | Time(s) 0.0076\n",
      "Epoch 00010 | Loss 1.7162 | Test Acc 0.5330 | Time(s) 0.0075\n",
      "Epoch 00011 | Loss 1.6960 | Test Acc 0.5440 | Time(s) 0.0074\n",
      "Epoch 00012 | Loss 1.6766 | Test Acc 0.5490 | Time(s) 0.0074\n",
      "Epoch 00013 | Loss 1.6579 | Test Acc 0.5550 | Time(s) 0.0073\n",
      "Epoch 00014 | Loss 1.6397 | Test Acc 0.5650 | Time(s) 0.0073\n",
      "Epoch 00015 | Loss 1.6220 | Test Acc 0.5760 | Time(s) 0.0072\n",
      "Epoch 00016 | Loss 1.6049 | Test Acc 0.5810 | Time(s) 0.0072\n",
      "Epoch 00017 | Loss 1.5883 | Test Acc 0.5850 | Time(s) 0.0072\n",
      "Epoch 00018 | Loss 1.5722 | Test Acc 0.5940 | Time(s) 0.0071\n",
      "Epoch 00019 | Loss 1.5565 | Test Acc 0.6000 | Time(s) 0.0071\n",
      "Epoch 00020 | Loss 1.5413 | Test Acc 0.6020 | Time(s) 0.0071\n",
      "Epoch 00021 | Loss 1.5264 | Test Acc 0.6060 | Time(s) 0.0071\n",
      "Epoch 00022 | Loss 1.5118 | Test Acc 0.6070 | Time(s) 0.0071\n",
      "Epoch 00023 | Loss 1.4974 | Test Acc 0.6130 | Time(s) 0.0070\n",
      "Epoch 00024 | Loss 1.4832 | Test Acc 0.6190 | Time(s) 0.0070\n",
      "Epoch 00025 | Loss 1.4691 | Test Acc 0.6250 | Time(s) 0.0070\n",
      "Epoch 00026 | Loss 1.4552 | Test Acc 0.6290 | Time(s) 0.0070\n",
      "Epoch 00027 | Loss 1.4413 | Test Acc 0.6300 | Time(s) 0.0071\n",
      "Epoch 00028 | Loss 1.4276 | Test Acc 0.6340 | Time(s) 0.0072\n",
      "Epoch 00029 | Loss 1.4139 | Test Acc 0.6420 | Time(s) 0.0072\n",
      "Epoch 00030 | Loss 1.4002 | Test Acc 0.6520 | Time(s) 0.0072\n",
      "Epoch 00031 | Loss 1.3865 | Test Acc 0.6610 | Time(s) 0.0071\n",
      "Epoch 00032 | Loss 1.3729 | Test Acc 0.6650 | Time(s) 0.0071\n",
      "Epoch 00033 | Loss 1.3592 | Test Acc 0.6710 | Time(s) 0.0070\n",
      "Epoch 00034 | Loss 1.3456 | Test Acc 0.6790 | Time(s) 0.0070\n",
      "Epoch 00035 | Loss 1.3320 | Test Acc 0.6810 | Time(s) 0.0070\n",
      "Epoch 00036 | Loss 1.3183 | Test Acc 0.6880 | Time(s) 0.0069\n",
      "Epoch 00037 | Loss 1.3045 | Test Acc 0.6920 | Time(s) 0.0069\n",
      "Epoch 00038 | Loss 1.2907 | Test Acc 0.6930 | Time(s) 0.0069\n",
      "Epoch 00039 | Loss 1.2768 | Test Acc 0.6940 | Time(s) 0.0069\n",
      "Epoch 00040 | Loss 1.2630 | Test Acc 0.6970 | Time(s) 0.0069\n",
      "Epoch 00041 | Loss 1.2492 | Test Acc 0.6990 | Time(s) 0.0068\n",
      "Epoch 00042 | Loss 1.2355 | Test Acc 0.7020 | Time(s) 0.0068\n",
      "Epoch 00043 | Loss 1.2218 | Test Acc 0.7040 | Time(s) 0.0068\n",
      "Epoch 00044 | Loss 1.2081 | Test Acc 0.7050 | Time(s) 0.0068\n",
      "Epoch 00045 | Loss 1.1945 | Test Acc 0.7040 | Time(s) 0.0067\n",
      "Epoch 00046 | Loss 1.1810 | Test Acc 0.7090 | Time(s) 0.0067\n",
      "Epoch 00047 | Loss 1.1676 | Test Acc 0.7160 | Time(s) 0.0067\n",
      "Epoch 00048 | Loss 1.1542 | Test Acc 0.7160 | Time(s) 0.0067\n",
      "Epoch 00049 | Loss 1.1409 | Test Acc 0.7170 | Time(s) 0.0067\n"
     ]
    }
   ],
   "source": [
    "import time\n",
    "import numpy as np\n",
    "g, features, labels, train_mask, test_mask = load_cora_data()\n",
    "optimizer = torch.optim.Adam(net.parameters(), lr=1e-3)\n",
    "dur = []\n",
    "for epoch in range(50):\n",
    "    if epoch >=3:\n",
    "        t0 = time.time()\n",
    "\n",
    "    net.train()\n",
    "    logits = net(g, features)\n",
    "    logp = F.log_softmax(logits, 1)\n",
    "    loss = F.nll_loss(logp[train_mask], labels[train_mask])\n",
    "\n",
    "    optimizer.zero_grad()\n",
    "    loss.backward()\n",
    "    optimizer.step()\n",
    "\n",
    "    if epoch >=3:\n",
    "        dur.append(time.time() - t0)\n",
    "\n",
    "    acc = evaluate(net, g, features, labels, test_mask)\n",
    "    print(\"Epoch {:05d} | Loss {:.4f} | Test Acc {:.4f} | Time(s) {:.4f}\".format(\n",
    "            epoch, loss.item(), acc, np.mean(dur)))"
   ]
  },
  {
   "cell_type": "code",
   "execution_count": 31,
   "metadata": {},
   "outputs": [
    {
     "name": "stdout",
     "output_type": "stream",
     "text": [
      "Graph(num_nodes=2708, num_edges=13264,\n",
      "      ndata_schemes={}\n",
      "      edata_schemes={})\n"
     ]
    }
   ],
   "source": [
    "print(g)"
   ]
  },
  {
   "cell_type": "code",
   "execution_count": 37,
   "metadata": {},
   "outputs": [
    {
     "name": "stdout",
     "output_type": "stream",
     "text": [
      "torch.Size([2708, 1433])\n",
      "tensor([[0., 0., 0.,  ..., 0., 0., 0.],\n",
      "        [0., 0., 0.,  ..., 0., 0., 0.],\n",
      "        [0., 0., 0.,  ..., 0., 0., 0.],\n",
      "        ...,\n",
      "        [0., 0., 0.,  ..., 0., 0., 0.],\n",
      "        [0., 0., 0.,  ..., 0., 0., 0.],\n",
      "        [0., 0., 0.,  ..., 0., 0., 0.]])\n"
     ]
    }
   ],
   "source": [
    "print(features.shape)\n",
    "print(features)"
   ]
  },
  {
   "cell_type": "code",
   "execution_count": 45,
   "metadata": {},
   "outputs": [
    {
     "data": {
      "text/plain": [
       "tensor([3, 4, 4,  ..., 3, 3, 3])"
      ]
     },
     "execution_count": 45,
     "metadata": {},
     "output_type": "execute_result"
    }
   ],
   "source": [
    "labels"
   ]
  },
  {
   "cell_type": "code",
   "execution_count": 46,
   "metadata": {},
   "outputs": [
    {
     "name": "stdout",
     "output_type": "stream",
     "text": [
      "torch.Size([2708])\n"
     ]
    }
   ],
   "source": [
    "print(train_mask.shape)"
   ]
  },
  {
   "cell_type": "code",
   "execution_count": 48,
   "metadata": {},
   "outputs": [
    {
     "name": "stdout",
     "output_type": "stream",
     "text": [
      "torch.Size([2708])\n"
     ]
    }
   ],
   "source": [
    "print(test_mask.shape)"
   ]
  },
  {
   "cell_type": "code",
   "execution_count": 101,
   "metadata": {},
   "outputs": [
    {
     "data": {
      "text/plain": [
       "<module 'dgl.data.citation_graph' from '/home/amax/anaconda3/lib/python3.8/site-packages/dgl/data/citation_graph.py'>"
      ]
     },
     "execution_count": 101,
     "metadata": {},
     "output_type": "execute_result"
    }
   ],
   "source": [
    "\\"
   ]
  },
  {
   "cell_type": "code",
   "execution_count": 52,
   "metadata": {},
   "outputs": [
    {
     "ename": "TypeError",
     "evalue": "'CoraGraphDataset' object is not callable",
     "output_type": "error",
     "traceback": [
      "\u001b[0;31m---------------------------------------------------------------------------\u001b[0m",
      "\u001b[0;31mTypeError\u001b[0m                                 Traceback (most recent call last)",
      "\u001b[0;32m<ipython-input-52-a28c71a07a91>\u001b[0m in \u001b[0;36m<module>\u001b[0;34m\u001b[0m\n\u001b[0;32m----> 1\u001b[0;31m \u001b[0mdata\u001b[0m\u001b[0;34m(\u001b[0m\u001b[0;34m)\u001b[0m\u001b[0;34m\u001b[0m\u001b[0;34m\u001b[0m\u001b[0m\n\u001b[0m",
      "\u001b[0;31mTypeError\u001b[0m: 'CoraGraphDataset' object is not callable"
     ]
    }
   ],
   "source": [
    "data()"
   ]
  },
  {
   "cell_type": "code",
   "execution_count": null,
   "metadata": {},
   "outputs": [],
   "source": []
  }
 ],
 "metadata": {
  "kernelspec": {
   "display_name": "Python 3",
   "language": "python",
   "name": "python3"
  },
  "language_info": {
   "codemirror_mode": {
    "name": "ipython",
    "version": 3
   },
   "file_extension": ".py",
   "mimetype": "text/x-python",
   "name": "python",
   "nbconvert_exporter": "python",
   "pygments_lexer": "ipython3",
   "version": "3.8.3"
  }
 },
 "nbformat": 4,
 "nbformat_minor": 4
}
